{
 "cells": [
  {
   "cell_type": "markdown",
   "id": "98476e22",
   "metadata": {},
   "source": [
    "# Exercice1"
   ]
  },
  {
   "cell_type": "code",
   "execution_count": 1,
   "id": "0fba82e5",
   "metadata": {},
   "outputs": [
    {
     "name": "stdout",
     "output_type": "stream",
     "text": [
      "[2002, 2009, 2016, 2023, 2037, 2044, 2051, 2058, 2072, 2079, 2086, 2093, 2107, 2114, 2121, 2128, 2142, 2149, 2156, 2163, 2177, 2184, 2191, 2198, 2212, 2219, 2226, 2233, 2247, 2254, 2261, 2268, 2282, 2289, 2296, 2303, 2317, 2324, 2331, 2338, 2352, 2359, 2366, 2373, 2387, 2394, 2401, 2408, 2422, 2429, 2436, 2443, 2457, 2464, 2471, 2478, 2492, 2499, 2506, 2513, 2527, 2534, 2541, 2548, 2562, 2569, 2576, 2583, 2597, 2604, 2611, 2618, 2632, 2639, 2646, 2653, 2667, 2674, 2681, 2688, 2702, 2709, 2716, 2723, 2737, 2744, 2751, 2758, 2772, 2779, 2786, 2793, 2807, 2814, 2821, 2828, 2842, 2849, 2856, 2863, 2877, 2884, 2891, 2898, 2912, 2919, 2926, 2933, 2947, 2954, 2961, 2968, 2982, 2989, 2996, 3003, 3017, 3024, 3031, 3038, 3052, 3059, 3066, 3073, 3087, 3094, 3101, 3108, 3122, 3129, 3136, 3143, 3157, 3164, 3171, 3178, 3192, 3199]\n"
     ]
    }
   ],
   "source": [
    " num = [i for i in range(2000,3201) \n",
    "    if i % 7 == 0 and i % 5!=0]\n",
    "print(num)"
   ]
  },
  {
   "cell_type": "markdown",
   "id": "bde25556",
   "metadata": {},
   "source": [
    "# Exercice2"
   ]
  },
  {
   "cell_type": "code",
   "execution_count": 2,
   "id": "6603b96f",
   "metadata": {},
   "outputs": [
    {
     "data": {
      "text/plain": [
       "6"
      ]
     },
     "execution_count": 2,
     "metadata": {},
     "output_type": "execute_result"
    }
   ],
   "source": [
    "def fact(n):\n",
    "    if n == 0:\n",
    "            return 1\n",
    "    else:\n",
    "            return n * fact(n - 1)\n",
    "fact(3)"
   ]
  },
  {
   "cell_type": "markdown",
   "id": "993d8828",
   "metadata": {},
   "source": [
    "# Exercice3"
   ]
  },
  {
   "cell_type": "code",
   "execution_count": 3,
   "id": "0149111a",
   "metadata": {},
   "outputs": [
    {
     "name": "stdout",
     "output_type": "stream",
     "text": [
      "Entrez un chiffre svp: 8\n",
      "{1: 1, 2: 4, 3: 9, 4: 16, 5: 25, 6: 36, 7: 49, 8: 64}\n"
     ]
    }
   ],
   "source": [
    "n = int(input(\"Entrez un chiffre svp: \"))\n",
    "ans={i : i*i for i in range(1, n + 1)}\n",
    "print(ans)"
   ]
  },
  {
   "cell_type": "markdown",
   "id": "c79daf23",
   "metadata": {},
   "source": [
    "# Exercice4"
   ]
  },
  {
   "cell_type": "code",
   "execution_count": 4,
   "id": "fb79874c",
   "metadata": {},
   "outputs": [
    {
     "name": "stdout",
     "output_type": "stream",
     "text": [
      "ktten\n",
      "itten\n",
      "kittn\n"
     ]
    }
   ],
   "source": [
    "def remove_char(str, n):\n",
    "    part_1 = str[:n] \n",
    "    part_2 = str[n+1:]\n",
    "    return part_1 + part_2\n",
    "print(remove_char('kitten', 1 ))\n",
    "print(remove_char('kitten', 0 ))\n",
    "print(remove_char('kitten',4 ))"
   ]
  },
  {
   "cell_type": "markdown",
   "id": "5443ab90",
   "metadata": {},
   "source": [
    "# Exercice5"
   ]
  },
  {
   "cell_type": "code",
   "execution_count": 5,
   "id": "98e25261",
   "metadata": {},
   "outputs": [
    {
     "name": "stdout",
     "output_type": "stream",
     "text": [
      "ktten\n"
     ]
    }
   ],
   "source": [
    "def missing_char(str, n):\n",
    "    return str[:n] + str[n+1:]\n",
    "print( missing_char('kitten',1))"
   ]
  },
  {
   "cell_type": "markdown",
   "id": "f818f75f",
   "metadata": {},
   "source": [
    "# Exercice6"
   ]
  },
  {
   "cell_type": "code",
   "execution_count": 6,
   "id": "690c1e34",
   "metadata": {},
   "outputs": [
    {
     "name": "stdout",
     "output_type": "stream",
     "text": [
      "Original array elements: [[0 1]\n",
      " [2 3]\n",
      " [4 5]]\n",
      "Array to list:  [[0, 1], [2, 3], [4, 5]]\n"
     ]
    }
   ],
   "source": [
    "import numpy as np\n",
    "x= np.arange(6).reshape(3,2)\n",
    "print(\"Original array elements:\" ,x )\n",
    "print(\"Array to list: \",x.tolist() )"
   ]
  },
  {
   "cell_type": "markdown",
   "id": "4cfc2305",
   "metadata": {},
   "source": [
    "# Exercice7"
   ]
  },
  {
   "cell_type": "code",
   "execution_count": 7,
   "id": "f606a09e",
   "metadata": {},
   "outputs": [
    {
     "name": "stdout",
     "output_type": "stream",
     "text": [
      "[[ 1. -1.]\n",
      " [-1.  1.]]\n"
     ]
    }
   ],
   "source": [
    "import numpy as np\n",
    "original_array1 = [0, 1, 2] \n",
    "original_array2 = [2, 1, 0] \n",
    "cov = np.cov(original_array1,original_array2)\n",
    "print (cov)"
   ]
  },
  {
   "cell_type": "markdown",
   "id": "3e0a37f9",
   "metadata": {},
   "source": [
    "# Exercice8 "
   ]
  },
  {
   "cell_type": "code",
   "execution_count": 8,
   "id": "3ecfd0b0",
   "metadata": {},
   "outputs": [
    {
     "name": "stdout",
     "output_type": "stream",
     "text": [
      "100\n",
      "18\n"
     ]
    }
   ],
   "source": [
    "C, H = 50, 30\n",
    "mylist = input().split(',')\n",
    "print(*(round((2*C*int(D)/H)**(1/2)) for D in mylist), sep= \"\")"
   ]
  },
  {
   "cell_type": "code",
   "execution_count": null,
   "id": "dcbb4c82",
   "metadata": {},
   "outputs": [],
   "source": []
  }
 ],
 "metadata": {
  "kernelspec": {
   "display_name": "Python 3 (ipykernel)",
   "language": "python",
   "name": "python3"
  },
  "language_info": {
   "codemirror_mode": {
    "name": "ipython",
    "version": 3
   },
   "file_extension": ".py",
   "mimetype": "text/x-python",
   "name": "python",
   "nbconvert_exporter": "python",
   "pygments_lexer": "ipython3",
   "version": "3.9.12"
  }
 },
 "nbformat": 4,
 "nbformat_minor": 5
}
