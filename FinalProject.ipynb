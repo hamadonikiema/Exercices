{
 "cells": [
  {
   "cell_type": "markdown",
   "id": "06a15a1c",
   "metadata": {},
   "source": [
    "Citation Request: This dataset is public available for research. The details are described in [Moro et al., 2011].\n",
    "\n",
    "Available at: [pdf] http://hdl.handle.net/1822/14838 [bib] http://www3.dsi.uminho.pt/pcortez/bib/2011-esm-1.txt\n",
    "\n",
    "### Title: Bank Marketing\n",
    "### Number of Attributes: 16 + output attribute.\n",
    "### Missing Attribute Values: None\n",
    "### The classification goal is to predict if the client will subscribe a term deposit .\n",
    "Input variables:\n",
    "### I. Bank client data:\n",
    "1 - age (numeric) 2 - job : type of job (categorical: \"admin.\",\"unknown\",\"unemployed\",\"management\",\"housemaid\",\"entrepreneur\",\"student\", \"blue-collar\",\"self-employed\",\"retired\",\"technician\",\"services\") 3 - marital : marital status (categorical: \"married\",\"divorced\",\"single\"; note: \"divorced\" means divorced or widowed) 4 - education (categorical: \"unknown\",\"secondary\",\"primary\",\"tertiary\") 5 - default: has credit in default? (binary: \"yes\",\"no\") 6 - balance: average yearly balance, in euros (numeric) 7 - housing: has housing loan? (binary: \"yes\",\"no\") 8 - loan: has personal loan? (binary: \"yes\",\"no\")\n",
    "\n",
    "### II.Related with the last contact of the current campaign:\n",
    "9 - contact: contact communication type (categorical: \"unknown\",\"telephone\",\"cellular\") 10 - day: last contact day of the month (numeric) 11 - month: last contact month of year (categorical: \"jan\", \"feb\", \"mar\", ..., \"nov\", \"dec\") 12 - duration: last contact duration, in seconds (numeric)\n",
    "\n",
    "### III. Other attributes:\n",
    "13 - campaign: number of contacts performed during this campaign and for this client (numeric, includes last contact) 14 - pdays: number of days that passed by after the client was last contacted from a previous campaign (numeric, -1 means client was not previously contacted) 15 - previous: number of contacts performed before this campaign and for this client (numeric) 16 - poutcome: outcome of the previous marketing campaign (categorical: \"unknown\",\"other\",\"failure\",\"success\")\n",
    "\n",
    "Output variable (desired target): 17 - y - has the client subscribed a term deposit? (binary: \"yes\",\"no\").\n",
    "  ### Based on our understanding of the problem we will apply a logistic regression algorithm to predict if a client will subscribe a term deposit or not."
   ]
  },
  {
   "cell_type": "code",
   "execution_count": 1,
   "id": "fd50f565",
   "metadata": {},
   "outputs": [
    {
     "data": {
      "text/html": [
       "<div>\n",
       "<style scoped>\n",
       "    .dataframe tbody tr th:only-of-type {\n",
       "        vertical-align: middle;\n",
       "    }\n",
       "\n",
       "    .dataframe tbody tr th {\n",
       "        vertical-align: top;\n",
       "    }\n",
       "\n",
       "    .dataframe thead th {\n",
       "        text-align: right;\n",
       "    }\n",
       "</style>\n",
       "<table border=\"1\" class=\"dataframe\">\n",
       "  <thead>\n",
       "    <tr style=\"text-align: right;\">\n",
       "      <th></th>\n",
       "      <th>job</th>\n",
       "      <th>marital</th>\n",
       "      <th>credit_card</th>\n",
       "      <th>housing</th>\n",
       "      <th>loan</th>\n",
       "      <th>term_deposit</th>\n",
       "    </tr>\n",
       "  </thead>\n",
       "  <tbody>\n",
       "    <tr>\n",
       "      <th>0</th>\n",
       "      <td>employee</td>\n",
       "      <td>married</td>\n",
       "      <td>no</td>\n",
       "      <td>yes</td>\n",
       "      <td>no</td>\n",
       "      <td>0</td>\n",
       "    </tr>\n",
       "    <tr>\n",
       "      <th>1</th>\n",
       "      <td>employee</td>\n",
       "      <td>single</td>\n",
       "      <td>no</td>\n",
       "      <td>yes</td>\n",
       "      <td>no</td>\n",
       "      <td>0</td>\n",
       "    </tr>\n",
       "    <tr>\n",
       "      <th>2</th>\n",
       "      <td>entrepreneur</td>\n",
       "      <td>married</td>\n",
       "      <td>no</td>\n",
       "      <td>yes</td>\n",
       "      <td>yes</td>\n",
       "      <td>0</td>\n",
       "    </tr>\n",
       "    <tr>\n",
       "      <th>3</th>\n",
       "      <td>employee</td>\n",
       "      <td>married</td>\n",
       "      <td>no</td>\n",
       "      <td>yes</td>\n",
       "      <td>no</td>\n",
       "      <td>0</td>\n",
       "    </tr>\n",
       "    <tr>\n",
       "      <th>4</th>\n",
       "      <td>unknown</td>\n",
       "      <td>single</td>\n",
       "      <td>no</td>\n",
       "      <td>no</td>\n",
       "      <td>no</td>\n",
       "      <td>0</td>\n",
       "    </tr>\n",
       "  </tbody>\n",
       "</table>\n",
       "</div>"
      ],
      "text/plain": [
       "            job  marital credit_card housing loan  term_deposit\n",
       "0      employee  married          no     yes   no             0\n",
       "1      employee   single          no     yes   no             0\n",
       "2  entrepreneur  married          no     yes  yes             0\n",
       "3      employee  married          no     yes   no             0\n",
       "4       unknown   single          no      no   no             0"
      ]
     },
     "execution_count": 1,
     "metadata": {},
     "output_type": "execute_result"
    }
   ],
   "source": [
    "#Let's import some relevant libraries.\n",
    "import numpy as np\n",
    "import seaborn as sn\n",
    "import pandas as pd \n",
    "import matplotlib.pyplot as plt\n",
    "import warnings\n",
    "warnings.filterwarnings(\"ignore\")# To ignore NoteBook warnings.\n",
    "\n",
    "dataset = pd.read_csv('bank-full.csv', sep=';')# Loading our data.\n",
    "# We will use a funcrion to clean our data.\n",
    "def preprocess_data(new_data):\n",
    "    new_data.rename(columns={'default':'credit_card','y':'term_deposit'},inplace= True)\n",
    "    new_data.replace({'term_deposit':{'yes':1,'no':0}},inplace= True)\n",
    "# we will gather the job values in employee for those who have a job no matter the job type.    \n",
    "    new_data.replace({'job':{'management':'employee','technician':'employee','blue-collar':'employee',\n",
    "                   'admin.':'employee','services':'employee','self-employed':'employee',\n",
    "                     'housemaid':'employee'  }},inplace= True)\n",
    "# We will delete all the variables related to the campaign and some client's variables.   \n",
    "    new_data.drop(['age','education','balance','contact','month','poutcome','day',\n",
    "                   'duration','campaign','previous','pdays'] ,axis=1, inplace= True)\n",
    "    return new_data\n",
    "clean_data=preprocess_data(dataset)\n",
    "clean_data.head()"
   ]
  },
  {
   "cell_type": "code",
   "execution_count": 2,
   "id": "473937e5",
   "metadata": {},
   "outputs": [
    {
     "name": "stdout",
     "output_type": "stream",
     "text": [
      "<class 'pandas.core.frame.DataFrame'>\n",
      "RangeIndex: 45211 entries, 0 to 45210\n",
      "Data columns (total 6 columns):\n",
      " #   Column        Non-Null Count  Dtype \n",
      "---  ------        --------------  ----- \n",
      " 0   job           45211 non-null  object\n",
      " 1   marital       45211 non-null  object\n",
      " 2   credit_card   45211 non-null  object\n",
      " 3   housing       45211 non-null  object\n",
      " 4   loan          45211 non-null  object\n",
      " 5   term_deposit  45211 non-null  int64 \n",
      "dtypes: int64(1), object(5)\n",
      "memory usage: 2.1+ MB\n"
     ]
    }
   ],
   "source": [
    "clean_data.info()"
   ]
  },
  {
   "cell_type": "markdown",
   "id": "31adbd67",
   "metadata": {},
   "source": [
    "### Data visualization\n",
    "#### Here we will visualize the correlation between the all the other features and the term_deposit."
   ]
  },
  {
   "cell_type": "code",
   "execution_count": 3,
   "id": "31d3976e",
   "metadata": {},
   "outputs": [
    {
     "data": {
      "text/plain": [
       "[Text(0.5, 1.0, 'Correlation between Job and term_deposit')]"
      ]
     },
     "execution_count": 3,
     "metadata": {},
     "output_type": "execute_result"
    },
    {
     "data": {
      "image/png": "[encoded data removed]",
      "text/plain": [
       "<Figure size 432x288 with 1 Axes>"
      ]
     },
     "metadata": {
      "needs_background": "light"
     },
     "output_type": "display_data"
    }
   ],
   "source": [
    "sn.barplot(data=clean_data, x='job', y='term_deposit').set(title='Correlation between Job and term_deposit')"
   ]
  },
  {
   "cell_type": "code",
   "execution_count": 4,
   "id": "18ca1c1f",
   "metadata": {},
   "outputs": [
    {
     "data": {
      "text/plain": [
       "[Text(0.5, 1.0, 'Correlation between marital and term_deposit')]"
      ]
     },
     "execution_count": 4,
     "metadata": {},
     "output_type": "execute_result"
    },
    {
     "data": {
      "image/png": "[encoded data removed]",
      "text/plain": [
       "<Figure size 432x288 with 1 Axes>"
      ]
     },
     "metadata": {
      "needs_background": "light"
     },
     "output_type": "display_data"
    }
   ],
   "source": [
    "sn.barplot(data=clean_data, x='marital', y='term_deposit').set(title='Correlation between marital and term_deposit')"
   ]
  },
  {
   "cell_type": "code",
   "execution_count": 5,
   "id": "88977ad1",
   "metadata": {},
   "outputs": [
    {
     "data": {
      "text/plain": [
       "[Text(0.5, 1.0, 'Correlation between credit_card and term_deposit')]"
      ]
     },
     "execution_count": 5,
     "metadata": {},
     "output_type": "execute_result"
    },
    {
     "data": {
      "image/png": "[encoded data removed]",
      "text/plain": [
       "<Figure size 432x288 with 1 Axes>"
      ]
     },
     "metadata": {
      "needs_background": "light"
     },
     "output_type": "display_data"
    }
   ],
   "source": [
    "sn.barplot(data=clean_data, x='credit_card', y='term_deposit').set(title='Correlation between credit_card and term_deposit')"
   ]
  },
  {
   "cell_type": "code",
   "execution_count": 6,
   "id": "02ea27b1",
   "metadata": {},
   "outputs": [
    {
     "data": {
      "text/plain": [
       "[Text(0.5, 1.0, 'Correlation between housing and term_deposit')]"
      ]
     },
     "execution_count": 6,
     "metadata": {},
     "output_type": "execute_result"
    },
    {
     "data": {
      "image/png": "[encoded data removed]",
      "text/plain": [
       "<Figure size 432x288 with 1 Axes>"
      ]
     },
     "metadata": {
      "needs_background": "light"
     },
     "output_type": "display_data"
    }
   ],
   "source": [
    "sn.barplot(data=clean_data, x='housing', y='term_deposit').set(title='Correlation between housing and term_deposit')"
   ]
  },
  {
   "cell_type": "code",
   "execution_count": 7,
   "id": "963bbb10",
   "metadata": {},
   "outputs": [
    {
     "data": {
      "text/plain": [
       "[Text(0.5, 1.0, 'Correlation between loan and term_deposit')]"
      ]
     },
     "execution_count": 7,
     "metadata": {},
     "output_type": "execute_result"
    },
    {
     "data": {
      "image/png": "[encoded data removed]",
      "text/plain": [
       "<Figure size 432x288 with 1 Axes>"
      ]
     },
     "metadata": {
      "needs_background": "light"
     },
     "output_type": "display_data"
    }
   ],
   "source": [
    "sn.barplot(data=clean_data, x='loan', y='term_deposit').set(title='Correlation between loan and term_deposit')"
   ]
  },
  {
   "cell_type": "code",
   "execution_count": 8,
   "id": "56d39f2b",
   "metadata": {},
   "outputs": [
    {
     "data": {
      "text/html": [
       "<div>\n",
       "<style scoped>\n",
       "    .dataframe tbody tr th:only-of-type {\n",
       "        vertical-align: middle;\n",
       "    }\n",
       "\n",
       "    .dataframe tbody tr th {\n",
       "        vertical-align: top;\n",
       "    }\n",
       "\n",
       "    .dataframe thead th {\n",
       "        text-align: right;\n",
       "    }\n",
       "</style>\n",
       "<table border=\"1\" class=\"dataframe\">\n",
       "  <thead>\n",
       "    <tr style=\"text-align: right;\">\n",
       "      <th></th>\n",
       "      <th>job</th>\n",
       "      <th>marital</th>\n",
       "      <th>credit_card</th>\n",
       "      <th>housing</th>\n",
       "      <th>loan</th>\n",
       "      <th>term_deposit</th>\n",
       "    </tr>\n",
       "  </thead>\n",
       "  <tbody>\n",
       "    <tr>\n",
       "      <th>0</th>\n",
       "      <td>0</td>\n",
       "      <td>1</td>\n",
       "      <td>0</td>\n",
       "      <td>1</td>\n",
       "      <td>0</td>\n",
       "      <td>0</td>\n",
       "    </tr>\n",
       "    <tr>\n",
       "      <th>1</th>\n",
       "      <td>0</td>\n",
       "      <td>2</td>\n",
       "      <td>0</td>\n",
       "      <td>1</td>\n",
       "      <td>0</td>\n",
       "      <td>0</td>\n",
       "    </tr>\n",
       "    <tr>\n",
       "      <th>2</th>\n",
       "      <td>1</td>\n",
       "      <td>1</td>\n",
       "      <td>0</td>\n",
       "      <td>1</td>\n",
       "      <td>1</td>\n",
       "      <td>0</td>\n",
       "    </tr>\n",
       "    <tr>\n",
       "      <th>3</th>\n",
       "      <td>0</td>\n",
       "      <td>1</td>\n",
       "      <td>0</td>\n",
       "      <td>1</td>\n",
       "      <td>0</td>\n",
       "      <td>0</td>\n",
       "    </tr>\n",
       "    <tr>\n",
       "      <th>4</th>\n",
       "      <td>5</td>\n",
       "      <td>2</td>\n",
       "      <td>0</td>\n",
       "      <td>0</td>\n",
       "      <td>0</td>\n",
       "      <td>0</td>\n",
       "    </tr>\n",
       "  </tbody>\n",
       "</table>\n",
       "</div>"
      ],
      "text/plain": [
       "   job  marital  credit_card  housing  loan  term_deposit\n",
       "0    0        1            0        1     0             0\n",
       "1    0        2            0        1     0             0\n",
       "2    1        1            0        1     1             0\n",
       "3    0        1            0        1     0             0\n",
       "4    5        2            0        0     0             0"
      ]
     },
     "execution_count": 8,
     "metadata": {},
     "output_type": "execute_result"
    }
   ],
   "source": [
    "# We have to some data transformation(encoding) before applying the Logistic Regression algorithm.\n",
    "\n",
    "from sklearn.preprocessing import LabelEncoder\n",
    "le=LabelEncoder()\n",
    "transform_data=clean_data\n",
    "clean_data['job']= le.fit_transform(clean_data['job'])\n",
    "clean_data['credit_card']= le.fit_transform(clean_data['credit_card'])\n",
    "clean_data['housing']= le.fit_transform(clean_data['housing'])\n",
    "clean_data['loan']= le.fit_transform(clean_data['loan'])\n",
    "clean_data['marital']= le.fit_transform(clean_data['marital'])\n",
    "transform_data.head()"
   ]
  },
  {
   "cell_type": "code",
   "execution_count": 9,
   "id": "e62c91fd",
   "metadata": {},
   "outputs": [
    {
     "name": "stdout",
     "output_type": "stream",
     "text": [
      "Accuracy=0.88\n"
     ]
    }
   ],
   "source": [
    "#import relevant libraries\n",
    "from sklearn.model_selection import train_test_split\n",
    "from sklearn.linear_model import LogisticRegression\n",
    "from sklearn import metrics\n",
    "\n",
    "#features extraction\n",
    "x = transform_data[['job','loan','marital','credit_card','housing']]\n",
    "y = transform_data['term_deposit']\n",
    "\n",
    "x_train,x_test,y_train,y_test = train_test_split(x,y,test_size=0.20,random_state=0)  #splitting data with test size of 25%\n",
    "\n",
    "logreg = LogisticRegression()   #build our logistic model\n",
    "logreg.fit(x_train, y_train)  #fitting training data\n",
    "y_pred  = logreg.predict(x_test)    #testing model’s performance\n",
    "print(\"Accuracy={:.2f}\".format(logreg.score(x_test, y_test)))"
   ]
  },
  {
   "cell_type": "code",
   "execution_count": 10,
   "id": "dc70cc19",
   "metadata": {},
   "outputs": [
    {
     "data": {
      "text/plain": [
       "<sklearn.metrics._plot.confusion_matrix.ConfusionMatrixDisplay at 0x1d27975a5b0>"
      ]
     },
     "execution_count": 10,
     "metadata": {},
     "output_type": "execute_result"
    },
    {
     "data": {
      "image/png": "[encoded data removed]",
      "text/plain": [
       "<Figure size 432x288 with 2 Axes>"
      ]
     },
     "metadata": {
      "needs_background": "light"
     },
     "output_type": "display_data"
    }
   ],
   "source": [
    "# Let's buitl a confusion matrix and use it to evaluate our model's performance.\n",
    "\n",
    "from sklearn.metrics import confusion_matrix, ConfusionMatrixDisplay\n",
    "cm = confusion_matrix(y_test,y_pred)\n",
    "disp = ConfusionMatrixDisplay(confusion_matrix=cm)\n",
    "disp.plot() "
   ]
  },
  {
   "cell_type": "code",
   "execution_count": 11,
   "id": "456eefaa",
   "metadata": {},
   "outputs": [
    {
     "name": "stdout",
     "output_type": "stream",
     "text": [
      "              precision    recall  f1-score   support\n",
      "\n",
      "           0       0.88      1.00      0.94      7980\n",
      "           1       0.00      0.00      0.00      1063\n",
      "\n",
      "    accuracy                           0.88      9043\n",
      "   macro avg       0.44      0.50      0.47      9043\n",
      "weighted avg       0.78      0.88      0.83      9043\n",
      "\n"
     ]
    }
   ],
   "source": [
    "#Let's analyze our classification report.\n",
    "from sklearn.metrics import classification_report\n",
    "print(classification_report(y_test,y_pred))"
   ]
  },
  {
   "cell_type": "code",
   "execution_count": 12,
   "id": "615bcbb9",
   "metadata": {},
   "outputs": [
    {
     "data": {
      "text/plain": [
       "0    39922\n",
       "1     5289\n",
       "Name: term_deposit, dtype: int64"
      ]
     },
     "execution_count": 12,
     "metadata": {},
     "output_type": "execute_result"
    }
   ],
   "source": [
    "transform_data['term_deposit'].value_counts()"
   ]
  },
  {
   "cell_type": "markdown",
   "id": "5fc2d070",
   "metadata": {},
   "source": [
    "#### The confusion matrix and the classification report show that for the class 1 (client will subscribe) there is no true positive.\n",
    "#### An explanation to this is that in our dataset the class 0(client won't subscribe) value far exceeds the class 1 value.\n",
    "#### We can say then that the probability for a client to not subscribe is accurate at 88%."
   ]
  },
  {
   "cell_type": "code",
   "execution_count": 13,
   "id": "fce23598",
   "metadata": {},
   "outputs": [
    {
     "data": {
      "image/png": "[encoded data removed]",
      "text/plain": [
       "<Figure size 432x288 with 1 Axes>"
      ]
     },
     "metadata": {
      "needs_background": "light"
     },
     "output_type": "display_data"
    }
   ],
   "source": [
    "# We will mesuare our classification performance with the AUC - ROC curve\n",
    "\n",
    "import sklearn.metrics as metrics\n",
    "\n",
    "# calculate the false positive rate and true positive rate for all thresholds of the classification.\n",
    "probs = logreg.predict_proba(x_test)\n",
    "preds = probs[:,1]\n",
    "fpr, tpr, threshold = metrics.roc_curve(y_test, preds) \n",
    "roc_auc = metrics.auc(fpr, tpr)\n",
    "\n",
    "\n",
    "plt.title('Receiver Operating Characteristic')\n",
    "plt.plot(fpr, tpr, 'b', label = 'AUC = %0.2f' % roc_auc) # we are plotting True Positive Rate vs \n",
    "#False Positive Ratewith the blue line.\n",
    "\n",
    "plt.legend() #To display the AUC value in the graph.\n",
    "\n",
    "plt.plot([0, 1], [0, 1],'r--') #The red dotted line shows where True Positive Rate =False Positive Rate.\n",
    "\n",
    "#Our graph should be in values between (0,0),(1,1).\n",
    "plt.xlim([0, 1])\n",
    "plt.ylim([0, 1])\n",
    "\n",
    "plt.ylabel('True Positive Rate')\n",
    "plt.xlabel('False Positive Rate')\n",
    "\n",
    "plt.show() # To display a graph that will show TPR vs FPR at all thresholds."
   ]
  },
  {
   "cell_type": "markdown",
   "id": "94fbf326",
   "metadata": {},
   "source": [
    "#### AUC= 0.64 it tends  to  1 which means our model has a good measure of separability."
   ]
  },
  {
   "cell_type": "code",
   "execution_count": null,
   "id": "ece27d2b",
   "metadata": {},
   "outputs": [],
   "source": []
  }
 ],
 "metadata": {
  "kernelspec": {
   "display_name": "Python 3",
   "language": "python",
   "name": "python3"
  },
  "language_info": {
   "codemirror_mode": {
    "name": "ipython",
    "version": 3
   },
   "file_extension": ".py",
   "mimetype": "text/x-python",
   "name": "python",
   "nbconvert_exporter": "python",
   "pygments_lexer": "ipython3",
   "version": "3.8.8"
  }
 },
 "nbformat": 4,
 "nbformat_minor": 5
}
